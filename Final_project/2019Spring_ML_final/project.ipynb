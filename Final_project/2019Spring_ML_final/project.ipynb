{
 "cells": [
  {
   "cell_type": "markdown",
   "metadata": {},
   "source": [
    "# Notebook for run model\n",
    "\n",
    "너를 위한 것이란다"
   ]
  },
  {
   "cell_type": "markdown",
   "metadata": {},
   "source": [
    "## Useful functions\n",
    "\n",
    "밑에있는 함수들을 사용하렴.. print 대신 print_log를 사용하면 중간에 이 노트북을 꺼도 된단다"
   ]
  },
  {
   "cell_type": "code",
   "execution_count": 1,
   "metadata": {},
   "outputs": [],
   "source": [
    "def print_log(*args, **kwargs) :\n",
    "    with open('running_log.log', 'a') as f :\n",
    "        print(*args, file=f, **kwargs)\n",
    "    print(*args, **kwargs)"
   ]
  },
  {
   "cell_type": "markdown",
   "metadata": {},
   "source": [
    "아직 정해진게 아무것도 없다...\n",
    "\n",
    "### some ideas\n",
    "1) encoding\n",
    "- image의 형태는 변하지 않고 위치만 변한다\n",
    "- 따라서 base image를 추출하면 편함\n",
    "- Red number는 항상 위에 있으므로 추출 편함\n",
    "- Green number는 가장 green component가 많은 image에서 추출\n",
    "- Red number는 좌표를 얻기 편하다\n",
    "- Green number는 가장 일치하는 점이 많은 곳에서 좌표\n",
    "- Green number가 어렵다 흠..\n",
    "\n",
    "2) RNN\n",
    "- 좌표의 sequence 처리\n",
    "\n",
    "3) decoding\n",
    "- 좌표 + base image"
   ]
  }
 ],
 "metadata": {
  "kernelspec": {
   "display_name": "Python 3",
   "language": "python",
   "name": "python3"
  },
  "language_info": {
   "codemirror_mode": {
    "name": "ipython",
    "version": 3
   },
   "file_extension": ".py",
   "mimetype": "text/x-python",
   "name": "python",
   "nbconvert_exporter": "python",
   "pygments_lexer": "ipython3",
   "version": "3.6.7"
  }
 },
 "nbformat": 4,
 "nbformat_minor": 2
}
