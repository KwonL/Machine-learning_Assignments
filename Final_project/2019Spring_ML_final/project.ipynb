{
 "cells": [
  {
   "cell_type": "markdown",
   "metadata": {},
   "source": [
    "# Notebook for run model\n",
    "\n",
    "너를 위한 것이란다"
   ]
  },
  {
   "cell_type": "markdown",
   "metadata": {},
   "source": [
    "## Useful functions\n",
    "\n",
    "밑에있는 함수들을 사용하렴.. print 대신 print_log를 사용하면 중간에 이 노트북을 꺼도 된단다"
   ]
  },
  {
   "cell_type": "code",
   "execution_count": 1,
   "metadata": {},
   "outputs": [],
   "source": [
    "def print_log(*args, **kwargs) :\n",
    "    with open('running_log.log', 'a') as f :\n",
    "        print(*args, file=f, **kwargs)\n",
    "    print(*args, **kwargs)"
   ]
  },
  {
   "cell_type": "markdown",
   "metadata": {},
   "source": [
    "아직 정해진게 아무것도 없다...\n",
    "\n",
    "### some ideas\n",
    "1) encoding\n",
    "- image의 형태는 변하지 않고 위치만 변한다\n",
    "- 따라서 base image를 추출하면 편함\n",
    "- Red number는 항상 위에 있으므로 추출 편함\n",
    "- Green number는 가장 green component가 많은 image에서 추출\n",
    "- Red number는 좌표를 얻기 편하다\n",
    "- Green number는 가장 일치하는 점이 많은 곳에서 좌표\n",
    "- Green number가 어렵다 흠..\n",
    "\n",
    "2) RNN\n",
    "- 좌표의 sequence 처리\n",
    "\n",
    "3) decoding\n",
    "- 좌표 + base image"
   ]
  },
  {
   "cell_type": "markdown",
   "metadata": {},
   "source": [
    "## 구현 기준\n",
    "\n",
    "숫자는 24 by 24 pixel\n",
    "\n",
    "중심을 기준으로 좌표 설정. 중심은 0~23, 0~23중에서 index를 11로 설정"
   ]
  },
  {
   "cell_type": "markdown",
   "metadata": {},
   "source": [
    "# Step 0. Import"
   ]
  },
  {
   "cell_type": "code",
   "execution_count": 2,
   "metadata": {},
   "outputs": [],
   "source": [
    "import os\n",
    "import numpy as np\n",
    "import tensorflow as tf"
   ]
  },
  {
   "cell_type": "markdown",
   "metadata": {},
   "source": [
    "이거 만드는거 개꿀잼\n",
    "\n",
    "# ㄷㄷ 에반디"
   ]
  },
  {
   "cell_type": "markdown",
   "metadata": {},
   "source": [
    "# Step 2. RNN"
   ]
  },
  {
   "cell_type": "markdown",
   "metadata": {},
   "source": [
    "## Configuration of Neural Network"
   ]
  },
  {
   "cell_type": "code",
   "execution_count": 3,
   "metadata": {},
   "outputs": [],
   "source": [
    "# Training Parameters\n",
    "learning_rate = 0.001\n",
    "training_steps = 3000\n",
    "batch_size = 128\n",
    "display_step = 200\n",
    "\n",
    "# Network Parameters\n",
    "input_channel = 4 # 2 for coordinates of red number, 2 for coordinates of green number\n",
    "output_channel = 4 # same as input\n",
    "num_output = 10 # have to predict 10 future frames\n",
    "timesteps = 19 # timesteps (the number of rows)\n",
    "num_hidden = 64 # hidden layer num of features\n",
    "num_layers = 1 # the number of LSTM's layers"
   ]
  },
  {
   "cell_type": "markdown",
   "metadata": {},
   "source": [
    "## Tensorflow Graph"
   ]
  },
  {
   "cell_type": "markdown",
   "metadata": {},
   "source": [
    "### Placeholders"
   ]
  },
  {
   "cell_type": "code",
   "execution_count": 4,
   "metadata": {},
   "outputs": [
    {
     "ename": "NameError",
     "evalue": "name 'num_input' is not defined",
     "output_type": "error",
     "traceback": [
      "\u001b[0;31m----------------------------------------------------------------\u001b[0m",
      "\u001b[0;31mNameError\u001b[0m                      Traceback (most recent call last)",
      "\u001b[0;32m<ipython-input-4-506b7db45a02>\u001b[0m in \u001b[0;36m<module>\u001b[0;34m\u001b[0m\n\u001b[0;32m----> 1\u001b[0;31m \u001b[0mX\u001b[0m \u001b[0;34m=\u001b[0m \u001b[0mtf\u001b[0m\u001b[0;34m.\u001b[0m\u001b[0mplaceholder\u001b[0m\u001b[0;34m(\u001b[0m\u001b[0;34m\"float\"\u001b[0m\u001b[0;34m,\u001b[0m \u001b[0;34m[\u001b[0m\u001b[0;32mNone\u001b[0m\u001b[0;34m,\u001b[0m \u001b[0mtimesteps\u001b[0m\u001b[0;34m,\u001b[0m \u001b[0mnum_input\u001b[0m\u001b[0;34m]\u001b[0m\u001b[0;34m)\u001b[0m\u001b[0;34m\u001b[0m\u001b[0;34m\u001b[0m\u001b[0m\n\u001b[0m\u001b[1;32m      2\u001b[0m \u001b[0mY\u001b[0m \u001b[0;34m=\u001b[0m \u001b[0mtf\u001b[0m\u001b[0;34m.\u001b[0m\u001b[0mplaceholder\u001b[0m\u001b[0;34m(\u001b[0m\u001b[0;34m\"float\"\u001b[0m\u001b[0;34m,\u001b[0m \u001b[0;34m[\u001b[0m\u001b[0;32mNone\u001b[0m\u001b[0;34m,\u001b[0m \u001b[0moutput_channel\u001b[0m\u001b[0;34m,\u001b[0m \u001b[0mnum_output\u001b[0m\u001b[0;34m]\u001b[0m\u001b[0;34m)\u001b[0m\u001b[0;34m\u001b[0m\u001b[0;34m\u001b[0m\u001b[0m\n",
      "\u001b[0;31mNameError\u001b[0m: name 'num_input' is not defined"
     ]
    }
   ],
   "source": [
    "X = tf.placeholder(\"float\", [None, timesteps, num_input])\n",
    "Y = tf.placeholder(\"float\", [None, output_channel, num_output])"
   ]
  },
  {
   "cell_type": "markdown",
   "metadata": {},
   "source": [
    "### RNN"
   ]
  },
  {
   "cell_type": "code",
   "execution_count": null,
   "metadata": {},
   "outputs": [],
   "source": [
    "assert num_layers > 0\n",
    "if num_layers == 1:\n",
    "    # Define a lstm cell with tensorflow\n",
    "    lstm_cell = rnn.LSTMBlockCell(num_hidden, forget_bias=1.0)\n",
    "else:\n",
    "    cells = [rnn.LSTMBlockCell(num_hidden, forget_bias=1.0) for _ in range (num_layers)]\n",
    "    lstm_cell = rnn.MultiRNNCell(cells)\n",
    "    \n",
    "    \n",
    "# Get lstm cell output\n",
    "# time_major=True --> inputs_shape : [timesteps, batch_size, num_hidden]\n",
    "# time_major=False --> inputs_shape : [batch_size, timesteps, num_hidden]\n",
    "outputs, states = tf.nn.dynamic_rnn(cell=lstm_cell, inputs=X, time_major=False, dtype=tf.float32)\n",
    "# outputs : lists consisted of 19 elements. each element has shape of [None, num_hidden]"
   ]
  },
  {
   "cell_type": "markdown",
   "metadata": {},
   "source": [
    "### Linear regression"
   ]
  },
  {
   "cell_type": "markdown",
   "metadata": {},
   "source": [
    "As coordinates are results of a regression problem rather than a classification problem, we should use linear regression"
   ]
  },
  {
   "cell_type": "code",
   "execution_count": null,
   "metadata": {},
   "outputs": [],
   "source": [
    "W = tf.Variables(tf.random.uniform([num_hidden, num_output], -1., 1.))\n",
    "b = tf.Variables(tf.zeros([num_output]))"
   ]
  },
  {
   "cell_type": "markdown",
   "metadata": {},
   "source": [
    "# Loading data\n",
    "\n",
    "\n",
    "data shape은 원하는대로 바꾸거라\n",
    "\n",
    "지금은 red, green 따로해서 input output 있음"
   ]
  },
  {
   "cell_type": "code",
   "execution_count": 4,
   "metadata": {},
   "outputs": [
    {
     "name": "stdout",
     "output_type": "stream",
     "text": [
      "[[16 17]\n",
      " [17 15]\n",
      " [18 18]\n",
      " [19 21]\n",
      " [20 24]\n",
      " [21 27]\n",
      " [22 30]\n",
      " [23 33]\n",
      " [24 36]\n",
      " [25 39]]\n",
      "[[26 42]\n",
      " [27 45]\n",
      " [28 46]\n",
      " [29 43]\n",
      " [30 40]\n",
      " [31 37]\n",
      " [32 34]\n",
      " [33 31]\n",
      " [34 28]\n",
      " [35 25]]\n",
      "[[44 36]\n",
      " [47 35]\n",
      " [48 34]\n",
      " [45 33]\n",
      " [42 32]\n",
      " [39 31]\n",
      " [36 30]\n",
      " [33 29]\n",
      " [30 28]\n",
      " [27 27]]\n",
      "[[24 26]\n",
      " [21 25]\n",
      " [18 24]\n",
      " [17 23]\n",
      " [20 22]\n",
      " [23 21]\n",
      " [26 20]\n",
      " [29 19]\n",
      " [32 18]\n",
      " [35 17]]\n"
     ]
    }
   ],
   "source": [
    "data_set_size = 10000\n",
    "red_train_input = np.zeros([data_set_size, 10, 2], np.uint8)  # data set 크기, sequence 안에서 input은 10개, x좌표 y좌표 해서 2개\n",
    "red_train_output = np.zeros([data_set_size, 10, 2], np.uint8) #위와 마찬가지\n",
    "green_train_input = np.zeros([data_set_size, 10, 2], np.uint8)\n",
    "green_train_output = np.zeros([data_set_size, 10, 2], np.uint8)\n",
    "\n",
    "red_num_coord_path = \"./processed_data/red_num_cordinates/\"\n",
    "green_num_coord_path = \"./processed_data/green_num_cordinates/\"\n",
    "for i in range(data_set_size) :\n",
    "    red_seq_path = os.path.join(red_num_coord_path, '%04d' % i) \n",
    "    green_seq_path = os.path.join(green_num_coord_path, '%04d' % i)\n",
    "    \n",
    "    with open(red_seq_path) as f :\n",
    "        for idx in range(10) :\n",
    "            sp_list = f.readline().split()\n",
    "            red_train_input[i][idx][0] = int(sp_list[0])\n",
    "            red_train_input[i][idx][1] = int(sp_list[1])\n",
    "        for idx in range(10) :\n",
    "            sp_list = f.readline().split()\n",
    "            red_train_output[i][idx][0] = int(sp_list[0])\n",
    "            red_train_output[i][idx][1] = int(sp_list[1])\n",
    "            \n",
    "    with open(green_seq_path) as f :\n",
    "        for idx in range(10) :\n",
    "            sp_list = f.readline().split()\n",
    "            green_train_input[i][idx][0] = int(sp_list[0])\n",
    "            green_train_input[i][idx][1] = int(sp_list[1])\n",
    "        for idx in range(10) :\n",
    "            sp_list = f.readline().split()\n",
    "            green_train_output[i][idx][0] = int(sp_list[0])\n",
    "            green_train_output[i][idx][1] = int(sp_list[1])\n",
    "\n",
    "            \n",
    "# Examples\n",
    "print(red_train_input[0])\n",
    "print(red_train_output[0])\n",
    "print(green_train_input[2031])\n",
    "print(green_train_output[2031])\n",
    "\n",
    "# Train these data!"
   ]
  }
 ],
 "metadata": {
  "kernelspec": {
   "display_name": "Python 3",
   "language": "python",
   "name": "python3"
  },
  "language_info": {
   "codemirror_mode": {
    "name": "ipython",
    "version": 3
   },
   "file_extension": ".py",
   "mimetype": "text/x-python",
   "name": "python",
   "nbconvert_exporter": "python",
   "pygments_lexer": "ipython3",
   "version": "3.6.7"
  }
 },
 "nbformat": 4,
 "nbformat_minor": 2
}
