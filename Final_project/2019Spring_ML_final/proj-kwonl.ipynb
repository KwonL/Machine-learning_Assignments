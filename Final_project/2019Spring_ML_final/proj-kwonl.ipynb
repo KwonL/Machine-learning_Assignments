{
 "cells": [
  {
   "cell_type": "markdown",
   "metadata": {},
   "source": [
    "## Useful functions\n",
    "\n",
    "밑에있는 함수들을 사용하렴.. print 대신 print_log를 사용하면 중간에 이 노트북을 꺼도 된단다"
   ]
  },
  {
   "cell_type": "code",
   "execution_count": 1,
   "metadata": {},
   "outputs": [],
   "source": [
    "def print_log(*args, **kwargs) :\n",
    "    with open('running_log.log', 'a') as f :\n",
    "        print(*args, file=f, **kwargs)\n",
    "    print(*args, **kwargs)"
   ]
  },
  {
   "cell_type": "markdown",
   "metadata": {},
   "source": [
    "아직 정해진게 아무것도 없다...\n",
    "\n",
    "### some ideas\n",
    "1) encoding\n",
    "- image의 형태는 변하지 않고 위치만 변한다\n",
    "- 따라서 base image를 추출하면 편함\n",
    "- Red number는 항상 위에 있으므로 추출 편함\n",
    "- Green number는 가장 green component가 많은 image에서 추출\n",
    "- Red number는 좌표를 얻기 편하다\n",
    "- Green number는 가장 일치하는 점이 많은 곳에서 좌표\n",
    "- Green number가 어렵다 흠..\n",
    "\n",
    "2) RNN\n",
    "- 좌표의 sequence 처리\n",
    "\n",
    "3) decoding\n",
    "- 좌표 + base image"
   ]
  },
  {
   "cell_type": "markdown",
   "metadata": {},
   "source": [
    "## 구현 기준\n",
    "\n",
    "숫자는 24 by 24 pixel\n",
    "\n",
    "중심을 기준으로 좌표 설정. 중심은 0~23, 0~23중에서 index를 11로 설정"
   ]
  },
  {
   "cell_type": "markdown",
   "metadata": {},
   "source": [
    "# Step 0. Import"
   ]
  },
  {
   "cell_type": "code",
   "execution_count": 2,
   "metadata": {},
   "outputs": [],
   "source": [
    "import os\n",
    "import numpy as np\n",
    "import tensorflow as tf\n",
    "from pathlib import Path\n",
    "import random \n",
    "import time\n",
    "\n",
    "import tensorflow as tf\n",
    "from tensorflow.contrib import rnn, cudnn_rnn\n",
    "from tensorflow.keras import layers"
   ]
  },
  {
   "cell_type": "markdown",
   "metadata": {},
   "source": [
    "이거 만드는거 개꿀잼\n",
    "\n",
    "# ㄷㄷ 에반디\n",
    "\n",
    "### ㅋㅋㅋㅋ댓글다는거 ㄹㅇ 핵웃기넼ㅋㅋㅋㅋㅋㅋㅋㅋㅋ"
   ]
  },
  {
   "cell_type": "markdown",
   "metadata": {},
   "source": [
    "# Step 2. RNN"
   ]
  },
  {
   "cell_type": "markdown",
   "metadata": {},
   "source": [
    "## Configuration of Neural Network"
   ]
  },
  {
   "cell_type": "code",
   "execution_count": 3,
   "metadata": {},
   "outputs": [],
   "source": [
    "# Training Parameters\n",
    "learning_rate = 0.001\n",
    "training_steps = 10\n",
    "batch_size = 128\n",
    "display_step = 200\n",
    "\n",
    "# Network Parameters\n",
    "input_channel = 4 # 2 for coordinates of red number, 2 for coordinates of green number\n",
    "num_input = 10\n",
    "output_channel = 4 # same as input\n",
    "num_output = 10 # have to predict 10 future frames\n",
    "timesteps = 19 # timesteps (the number of rows)\n",
    "num_hidden = 4 # hidden layer num of features\n",
    "num_layers = 1 # the number of LSTM's layers"
   ]
  },
  {
   "cell_type": "markdown",
   "metadata": {},
   "source": [
    "# Loading data\n",
    "\n",
    "\n",
    "data shape은 원하는대로 바꾸거라\n",
    "\n",
    "지금은 red, green 따로해서 input output 있음"
   ]
  },
  {
   "cell_type": "code",
   "execution_count": 4,
   "metadata": {},
   "outputs": [],
   "source": [
    "data_set_size = 10000\n",
    "red_train_input = np.zeros([data_set_size, 10, 2], np.uint8)  # data set 크기, sequence 안에서 input은 10개, x좌표 y좌표 해서 2개\n",
    "red_train_output = np.zeros([data_set_size, 10, 2], np.uint8) #위와 마찬가지\n",
    "green_train_input = np.zeros([data_set_size, 10, 2], np.uint8)\n",
    "green_train_output = np.zeros([data_set_size, 10, 2], np.uint8)\n",
    "\n",
    "red_num_coord_path = \"./processed_data/red_num_cordinates/\"\n",
    "green_num_coord_path = \"./processed_data/green_num_cordinates/\"\n",
    "for i in range(data_set_size) :\n",
    "    red_seq_path = os.path.join(red_num_coord_path, '%04d' % i) \n",
    "    green_seq_path = os.path.join(green_num_coord_path, '%04d' % i)\n",
    "    \n",
    "    with open(red_seq_path) as f :\n",
    "        for idx in range(10) :\n",
    "            sp_list = f.readline().split()\n",
    "            red_train_input[i][idx][0] = int(sp_list[0])\n",
    "            red_train_input[i][idx][1] = int(sp_list[1])\n",
    "        for idx in range(10) :\n",
    "            sp_list = f.readline().split()\n",
    "            red_train_output[i][idx][0] = int(sp_list[0])\n",
    "            red_train_output[i][idx][1] = int(sp_list[1])\n",
    "            \n",
    "    with open(green_seq_path) as f :\n",
    "        for idx in range(10) :\n",
    "            sp_list = f.readline().split()\n",
    "            green_train_input[i][idx][0] = int(sp_list[0])\n",
    "            green_train_input[i][idx][1] = int(sp_list[1])\n",
    "        for idx in range(10) :\n",
    "            sp_list = f.readline().split()\n",
    "            green_train_output[i][idx][0] = int(sp_list[0])\n",
    "            green_train_output[i][idx][1] = int(sp_list[1])\n",
    "\n",
    "            \n",
    "# Examples\n",
    "# print(red_train_input[0])\n",
    "# print(red_train_output[0])\n",
    "# print(green_train_input[2031])\n",
    "# print(green_train_output[2031])\n",
    "\n",
    "# Train these data!"
   ]
  },
  {
   "cell_type": "code",
   "execution_count": 5,
   "metadata": {},
   "outputs": [],
   "source": [
    "# Data onehot encoding\n",
    "tmp_i = red_train_input[:, :, 0].copy() - 11\n",
    "tmp_o = red_train_output[:, :, 0].copy() - 11\n",
    "\n",
    "b = np.zeros((10000, 10, 41))\n",
    "for i in range(10000) :\n",
    "    b[i, np.arange(10), tmp_i[i]] = 1\n",
    "input_batch = b\n",
    "\n",
    "b = np.zeros((10000, 10, 41))\n",
    "for i in range(10000) :\n",
    "    b[i, np.arange(10), tmp_i[i]] = 1\n",
    "output_batch = b\n",
    "\n",
    "target_batch = tmp_o\n"
   ]
  },
  {
   "cell_type": "code",
   "execution_count": 11,
   "metadata": {},
   "outputs": [
    {
     "ename": "ValueError",
     "evalue": "No gradients provided for any variable, check your graph for ops that do not support gradients, between variables [\"<tf.Variable 'encode/rnn/basic_rnn_cell/kernel:0' shape=(169, 128) dtype=float32>\", \"<tf.Variable 'encode/rnn/basic_rnn_cell/bias:0' shape=(128,) dtype=float32>\", \"<tf.Variable 'decode/rnn/basic_rnn_cell/kernel:0' shape=(169, 128) dtype=float32>\", \"<tf.Variable 'decode/rnn/basic_rnn_cell/bias:0' shape=(128,) dtype=float32>\", \"<tf.Variable 'dense/kernel:0' shape=(128, 41) dtype=float32_ref>\", \"<tf.Variable 'dense/bias:0' shape=(41,) dtype=float32_ref>\", \"<tf.Variable 'dense_1/kernel:0' shape=(128, 41) dtype=float32_ref>\", \"<tf.Variable 'dense_1/bias:0' shape=(41,) dtype=float32_ref>\", \"<tf.Variable 'dense_2/kernel:0' shape=(128, 41) dtype=float32_ref>\", \"<tf.Variable 'dense_2/bias:0' shape=(41,) dtype=float32_ref>\", \"<tf.Variable 'dense_3/kernel:0' shape=(128, 41) dtype=float32_ref>\", \"<tf.Variable 'dense_3/bias:0' shape=(41,) dtype=float32_ref>\"] and loss Tensor(\"Mean_2:0\", shape=(), dtype=float32).",
     "output_type": "error",
     "traceback": [
      "\u001b[0;31m-------------------------------------------------------------------------\u001b[0m",
      "\u001b[0;31mValueError\u001b[0m                              Traceback (most recent call last)",
      "\u001b[0;32m<ipython-input-11-3d9329d08d93>\u001b[0m in \u001b[0;36m<module>\u001b[0;34m\u001b[0m\n\u001b[1;32m     40\u001b[0m             \u001b[0;31m#    logits=model, labels=targets))\u001b[0m\u001b[0;34m\u001b[0m\u001b[0;34m\u001b[0m\u001b[0;34m\u001b[0m\u001b[0m\n\u001b[1;32m     41\u001b[0m \u001b[0;34m\u001b[0m\u001b[0m\n\u001b[0;32m---> 42\u001b[0;31m \u001b[0moptimizer\u001b[0m \u001b[0;34m=\u001b[0m \u001b[0mtf\u001b[0m\u001b[0;34m.\u001b[0m\u001b[0mtrain\u001b[0m\u001b[0;34m.\u001b[0m\u001b[0mAdamOptimizer\u001b[0m\u001b[0;34m(\u001b[0m\u001b[0mlearning_rate\u001b[0m\u001b[0;34m)\u001b[0m\u001b[0;34m.\u001b[0m\u001b[0mminimize\u001b[0m\u001b[0;34m(\u001b[0m\u001b[0mcost\u001b[0m\u001b[0;34m)\u001b[0m\u001b[0;34m\u001b[0m\u001b[0;34m\u001b[0m\u001b[0m\n\u001b[0m",
      "\u001b[0;32m~/Documents/KJH/ML/ML_3.6/lib/python3.6/site-packages/tensorflow/python/training/optimizer.py\u001b[0m in \u001b[0;36mminimize\u001b[0;34m(self, loss, global_step, var_list, gate_gradients, aggregation_method, colocate_gradients_with_ops, name, grad_loss)\u001b[0m\n\u001b[1;32m    408\u001b[0m           \u001b[0;34m\"No gradients provided for any variable, check your graph for ops\"\u001b[0m\u001b[0;34m\u001b[0m\u001b[0;34m\u001b[0m\u001b[0m\n\u001b[1;32m    409\u001b[0m           \u001b[0;34m\" that do not support gradients, between variables %s and loss %s.\"\u001b[0m \u001b[0;34m%\u001b[0m\u001b[0;34m\u001b[0m\u001b[0;34m\u001b[0m\u001b[0m\n\u001b[0;32m--> 410\u001b[0;31m           ([str(v) for _, v in grads_and_vars], loss))\n\u001b[0m\u001b[1;32m    411\u001b[0m \u001b[0;34m\u001b[0m\u001b[0m\n\u001b[1;32m    412\u001b[0m     return self.apply_gradients(grads_and_vars, global_step=global_step,\n",
      "\u001b[0;31mValueError\u001b[0m: No gradients provided for any variable, check your graph for ops that do not support gradients, between variables [\"<tf.Variable 'encode/rnn/basic_rnn_cell/kernel:0' shape=(169, 128) dtype=float32>\", \"<tf.Variable 'encode/rnn/basic_rnn_cell/bias:0' shape=(128,) dtype=float32>\", \"<tf.Variable 'decode/rnn/basic_rnn_cell/kernel:0' shape=(169, 128) dtype=float32>\", \"<tf.Variable 'decode/rnn/basic_rnn_cell/bias:0' shape=(128,) dtype=float32>\", \"<tf.Variable 'dense/kernel:0' shape=(128, 41) dtype=float32_ref>\", \"<tf.Variable 'dense/bias:0' shape=(41,) dtype=float32_ref>\", \"<tf.Variable 'dense_1/kernel:0' shape=(128, 41) dtype=float32_ref>\", \"<tf.Variable 'dense_1/bias:0' shape=(41,) dtype=float32_ref>\", \"<tf.Variable 'dense_2/kernel:0' shape=(128, 41) dtype=float32_ref>\", \"<tf.Variable 'dense_2/bias:0' shape=(41,) dtype=float32_ref>\", \"<tf.Variable 'dense_3/kernel:0' shape=(128, 41) dtype=float32_ref>\", \"<tf.Variable 'dense_3/bias:0' shape=(41,) dtype=float32_ref>\"] and loss Tensor(\"Mean_2:0\", shape=(), dtype=float32)."
     ]
    }
   ],
   "source": [
    "#########\n",
    "# 신경망 모델 구성\n",
    "######\n",
    "# Seq2Seq 모델은 인코더의 입력과 디코더의 입력의 형식이 같다.\n",
    "# [batch size, time steps, input size]\n",
    "\n",
    "n_input = 41\n",
    "n_hidden = 128\n",
    "n_class = n_input\n",
    "\n",
    "enc_input = tf.placeholder(tf.float32, [None, None, n_input])\n",
    "dec_input = tf.placeholder(tf.float32, [None, None, n_input])\n",
    "# [batch size, time steps]\n",
    "targets = tf.placeholder(tf.int64, [None, None])\n",
    "\n",
    "\n",
    "# 인코더 셀을 구성한다.\n",
    "with tf.variable_scope('encode', reuse = tf.AUTO_REUSE):\n",
    "    enc_cell = tf.nn.rnn_cell.BasicRNNCell(n_hidden)\n",
    "    enc_cell = tf.nn.rnn_cell.DropoutWrapper(enc_cell, output_keep_prob=0.5)\n",
    "\n",
    "    outputs, enc_states = tf.nn.dynamic_rnn(enc_cell, enc_input, dtype=tf.float32)\n",
    "\n",
    "# 디코더 셀을 구성한다.\n",
    "with tf.variable_scope('decode', reuse = tf.AUTO_REUSE):\n",
    "    dec_cell = tf.nn.rnn_cell.BasicRNNCell(n_hidden)\n",
    "    dec_cell = tf.nn.rnn_cell.DropoutWrapper(dec_cell, output_keep_prob=0.5)\n",
    "\n",
    "    # Seq2Seq 모델은 인코더 셀의 최종 상태값을\n",
    "    # 디코더 셀의 초기 상태값으로 넣어주는 것이 핵심.\n",
    "    outputs, dec_states = tf.nn.dynamic_rnn(dec_cell, dec_input, initial_state=enc_states, dtype=tf.float32)\n",
    "\n",
    "model = tf.layers.dense(outputs, n_class, activation=None)\n",
    "\n",
    "targets_float = tf.cast(targets, tf.float32)\n",
    "\n",
    "\n",
    "cost = tf.reduce_mean((tf.square(tf.cast(tf.argmax(model) - targets, tf.float32))))\n",
    "            #tf.nn.(\n",
    "            #    logits=model, labels=targets))\n",
    "\n",
    "optimizer = tf.train.AdamOptimizer(learning_rate).minimize(cost)"
   ]
  },
  {
   "cell_type": "code",
   "execution_count": 8,
   "metadata": {},
   "outputs": [
    {
     "ename": "InvalidArgumentError",
     "evalue": "Incompatible shapes: [10000,10,41] vs. [10000,10]\n\t [[node sub (defined at <ipython-input-6-3483c43ad79d>:38) ]]\n\t [[node Mean (defined at <ipython-input-6-3483c43ad79d>:38) ]]\n\nCaused by op 'sub', defined at:\n  File \"/usr/lib/python3.6/runpy.py\", line 193, in _run_module_as_main\n    \"__main__\", mod_spec)\n  File \"/usr/lib/python3.6/runpy.py\", line 85, in _run_code\n    exec(code, run_globals)\n  File \"/home/snulife/Documents/KJH/ML/ML_3.6/lib/python3.6/site-packages/ipykernel_launcher.py\", line 16, in <module>\n    app.launch_new_instance()\n  File \"/home/snulife/Documents/KJH/ML/ML_3.6/lib/python3.6/site-packages/traitlets/config/application.py\", line 658, in launch_instance\n    app.start()\n  File \"/home/snulife/Documents/KJH/ML/ML_3.6/lib/python3.6/site-packages/ipykernel/kernelapp.py\", line 505, in start\n    self.io_loop.start()\n  File \"/home/snulife/Documents/KJH/ML/ML_3.6/lib/python3.6/site-packages/tornado/platform/asyncio.py\", line 148, in start\n    self.asyncio_loop.run_forever()\n  File \"/usr/lib/python3.6/asyncio/base_events.py\", line 427, in run_forever\n    self._run_once()\n  File \"/usr/lib/python3.6/asyncio/base_events.py\", line 1440, in _run_once\n    handle._run()\n  File \"/usr/lib/python3.6/asyncio/events.py\", line 145, in _run\n    self._callback(*self._args)\n  File \"/home/snulife/Documents/KJH/ML/ML_3.6/lib/python3.6/site-packages/tornado/ioloop.py\", line 690, in <lambda>\n    lambda f: self._run_callback(functools.partial(callback, future))\n  File \"/home/snulife/Documents/KJH/ML/ML_3.6/lib/python3.6/site-packages/tornado/ioloop.py\", line 743, in _run_callback\n    ret = callback()\n  File \"/home/snulife/Documents/KJH/ML/ML_3.6/lib/python3.6/site-packages/tornado/gen.py\", line 781, in inner\n    self.run()\n  File \"/home/snulife/Documents/KJH/ML/ML_3.6/lib/python3.6/site-packages/tornado/gen.py\", line 742, in run\n    yielded = self.gen.send(value)\n  File \"/home/snulife/Documents/KJH/ML/ML_3.6/lib/python3.6/site-packages/ipykernel/kernelbase.py\", line 378, in dispatch_queue\n    yield self.process_one()\n  File \"/home/snulife/Documents/KJH/ML/ML_3.6/lib/python3.6/site-packages/tornado/gen.py\", line 225, in wrapper\n    runner = Runner(result, future, yielded)\n  File \"/home/snulife/Documents/KJH/ML/ML_3.6/lib/python3.6/site-packages/tornado/gen.py\", line 708, in __init__\n    self.run()\n  File \"/home/snulife/Documents/KJH/ML/ML_3.6/lib/python3.6/site-packages/tornado/gen.py\", line 742, in run\n    yielded = self.gen.send(value)\n  File \"/home/snulife/Documents/KJH/ML/ML_3.6/lib/python3.6/site-packages/ipykernel/kernelbase.py\", line 365, in process_one\n    yield gen.maybe_future(dispatch(*args))\n  File \"/home/snulife/Documents/KJH/ML/ML_3.6/lib/python3.6/site-packages/tornado/gen.py\", line 209, in wrapper\n    yielded = next(result)\n  File \"/home/snulife/Documents/KJH/ML/ML_3.6/lib/python3.6/site-packages/ipykernel/kernelbase.py\", line 272, in dispatch_shell\n    yield gen.maybe_future(handler(stream, idents, msg))\n  File \"/home/snulife/Documents/KJH/ML/ML_3.6/lib/python3.6/site-packages/tornado/gen.py\", line 209, in wrapper\n    yielded = next(result)\n  File \"/home/snulife/Documents/KJH/ML/ML_3.6/lib/python3.6/site-packages/ipykernel/kernelbase.py\", line 542, in execute_request\n    user_expressions, allow_stdin,\n  File \"/home/snulife/Documents/KJH/ML/ML_3.6/lib/python3.6/site-packages/tornado/gen.py\", line 209, in wrapper\n    yielded = next(result)\n  File \"/home/snulife/Documents/KJH/ML/ML_3.6/lib/python3.6/site-packages/ipykernel/ipkernel.py\", line 294, in do_execute\n    res = shell.run_cell(code, store_history=store_history, silent=silent)\n  File \"/home/snulife/Documents/KJH/ML/ML_3.6/lib/python3.6/site-packages/ipykernel/zmqshell.py\", line 536, in run_cell\n    return super(ZMQInteractiveShell, self).run_cell(*args, **kwargs)\n  File \"/home/snulife/Documents/KJH/ML/ML_3.6/lib/python3.6/site-packages/IPython/core/interactiveshell.py\", line 2848, in run_cell\n    raw_cell, store_history, silent, shell_futures)\n  File \"/home/snulife/Documents/KJH/ML/ML_3.6/lib/python3.6/site-packages/IPython/core/interactiveshell.py\", line 2874, in _run_cell\n    return runner(coro)\n  File \"/home/snulife/Documents/KJH/ML/ML_3.6/lib/python3.6/site-packages/IPython/core/async_helpers.py\", line 67, in _pseudo_sync_runner\n    coro.send(None)\n  File \"/home/snulife/Documents/KJH/ML/ML_3.6/lib/python3.6/site-packages/IPython/core/interactiveshell.py\", line 3049, in run_cell_async\n    interactivity=interactivity, compiler=compiler, result=result)\n  File \"/home/snulife/Documents/KJH/ML/ML_3.6/lib/python3.6/site-packages/IPython/core/interactiveshell.py\", line 3214, in run_ast_nodes\n    if (yield from self.run_code(code, result)):\n  File \"/home/snulife/Documents/KJH/ML/ML_3.6/lib/python3.6/site-packages/IPython/core/interactiveshell.py\", line 3296, in run_code\n    exec(code_obj, self.user_global_ns, self.user_ns)\n  File \"<ipython-input-6-3483c43ad79d>\", line 38, in <module>\n    cost = tf.reduce_mean((tf.square(model - targets_float)))\n  File \"/home/snulife/Documents/KJH/ML/ML_3.6/lib/python3.6/site-packages/tensorflow/python/ops/math_ops.py\", line 812, in binary_op_wrapper\n    return func(x, y, name=name)\n  File \"/home/snulife/Documents/KJH/ML/ML_3.6/lib/python3.6/site-packages/tensorflow/python/ops/gen_math_ops.py\", line 9536, in sub\n    \"Sub\", x=x, y=y, name=name)\n  File \"/home/snulife/Documents/KJH/ML/ML_3.6/lib/python3.6/site-packages/tensorflow/python/framework/op_def_library.py\", line 788, in _apply_op_helper\n    op_def=op_def)\n  File \"/home/snulife/Documents/KJH/ML/ML_3.6/lib/python3.6/site-packages/tensorflow/python/util/deprecation.py\", line 507, in new_func\n    return func(*args, **kwargs)\n  File \"/home/snulife/Documents/KJH/ML/ML_3.6/lib/python3.6/site-packages/tensorflow/python/framework/ops.py\", line 3300, in create_op\n    op_def=op_def)\n  File \"/home/snulife/Documents/KJH/ML/ML_3.6/lib/python3.6/site-packages/tensorflow/python/framework/ops.py\", line 1801, in __init__\n    self._traceback = tf_stack.extract_stack()\n\nInvalidArgumentError (see above for traceback): Incompatible shapes: [10000,10,41] vs. [10000,10]\n\t [[node sub (defined at <ipython-input-6-3483c43ad79d>:38) ]]\n\t [[node Mean (defined at <ipython-input-6-3483c43ad79d>:38) ]]\n",
     "output_type": "error",
     "traceback": [
      "\u001b[0;31m-------------------------------------------------------------------------\u001b[0m",
      "\u001b[0;31mInvalidArgumentError\u001b[0m                    Traceback (most recent call last)",
      "\u001b[0;32m~/Documents/KJH/ML/ML_3.6/lib/python3.6/site-packages/tensorflow/python/client/session.py\u001b[0m in \u001b[0;36m_do_call\u001b[0;34m(self, fn, *args)\u001b[0m\n\u001b[1;32m   1333\u001b[0m     \u001b[0;32mtry\u001b[0m\u001b[0;34m:\u001b[0m\u001b[0;34m\u001b[0m\u001b[0;34m\u001b[0m\u001b[0m\n\u001b[0;32m-> 1334\u001b[0;31m       \u001b[0;32mreturn\u001b[0m \u001b[0mfn\u001b[0m\u001b[0;34m(\u001b[0m\u001b[0;34m*\u001b[0m\u001b[0margs\u001b[0m\u001b[0;34m)\u001b[0m\u001b[0;34m\u001b[0m\u001b[0;34m\u001b[0m\u001b[0m\n\u001b[0m\u001b[1;32m   1335\u001b[0m     \u001b[0;32mexcept\u001b[0m \u001b[0merrors\u001b[0m\u001b[0;34m.\u001b[0m\u001b[0mOpError\u001b[0m \u001b[0;32mas\u001b[0m \u001b[0me\u001b[0m\u001b[0;34m:\u001b[0m\u001b[0;34m\u001b[0m\u001b[0;34m\u001b[0m\u001b[0m\n",
      "\u001b[0;32m~/Documents/KJH/ML/ML_3.6/lib/python3.6/site-packages/tensorflow/python/client/session.py\u001b[0m in \u001b[0;36m_run_fn\u001b[0;34m(feed_dict, fetch_list, target_list, options, run_metadata)\u001b[0m\n\u001b[1;32m   1318\u001b[0m       return self._call_tf_sessionrun(\n\u001b[0;32m-> 1319\u001b[0;31m           options, feed_dict, fetch_list, target_list, run_metadata)\n\u001b[0m\u001b[1;32m   1320\u001b[0m \u001b[0;34m\u001b[0m\u001b[0m\n",
      "\u001b[0;32m~/Documents/KJH/ML/ML_3.6/lib/python3.6/site-packages/tensorflow/python/client/session.py\u001b[0m in \u001b[0;36m_call_tf_sessionrun\u001b[0;34m(self, options, feed_dict, fetch_list, target_list, run_metadata)\u001b[0m\n\u001b[1;32m   1406\u001b[0m         \u001b[0mself\u001b[0m\u001b[0;34m.\u001b[0m\u001b[0m_session\u001b[0m\u001b[0;34m,\u001b[0m \u001b[0moptions\u001b[0m\u001b[0;34m,\u001b[0m \u001b[0mfeed_dict\u001b[0m\u001b[0;34m,\u001b[0m \u001b[0mfetch_list\u001b[0m\u001b[0;34m,\u001b[0m \u001b[0mtarget_list\u001b[0m\u001b[0;34m,\u001b[0m\u001b[0;34m\u001b[0m\u001b[0;34m\u001b[0m\u001b[0m\n\u001b[0;32m-> 1407\u001b[0;31m         run_metadata)\n\u001b[0m\u001b[1;32m   1408\u001b[0m \u001b[0;34m\u001b[0m\u001b[0m\n",
      "\u001b[0;31mInvalidArgumentError\u001b[0m: Incompatible shapes: [10000,10,41] vs. [10000,10]\n\t [[{{node sub}}]]\n\t [[{{node Mean}}]]",
      "\nDuring handling of the above exception, another exception occurred:\n",
      "\u001b[0;31mInvalidArgumentError\u001b[0m                    Traceback (most recent call last)",
      "\u001b[0;32m<ipython-input-8-639ec3f697c5>\u001b[0m in \u001b[0;36m<module>\u001b[0;34m\u001b[0m\n\u001b[1;32m     11\u001b[0m                        feed_dict={enc_input: input_batch,\n\u001b[1;32m     12\u001b[0m                                   \u001b[0mdec_input\u001b[0m\u001b[0;34m:\u001b[0m \u001b[0moutput_batch\u001b[0m\u001b[0;34m,\u001b[0m\u001b[0;34m\u001b[0m\u001b[0;34m\u001b[0m\u001b[0m\n\u001b[0;32m---> 13\u001b[0;31m                                   targets: target_batch})\n\u001b[0m\u001b[1;32m     14\u001b[0m \u001b[0;34m\u001b[0m\u001b[0m\n\u001b[1;32m     15\u001b[0m     print('Epoch:', '%04d' % (epoch + 1),\n",
      "\u001b[0;32m~/Documents/KJH/ML/ML_3.6/lib/python3.6/site-packages/tensorflow/python/client/session.py\u001b[0m in \u001b[0;36mrun\u001b[0;34m(self, fetches, feed_dict, options, run_metadata)\u001b[0m\n\u001b[1;32m    927\u001b[0m     \u001b[0;32mtry\u001b[0m\u001b[0;34m:\u001b[0m\u001b[0;34m\u001b[0m\u001b[0;34m\u001b[0m\u001b[0m\n\u001b[1;32m    928\u001b[0m       result = self._run(None, fetches, feed_dict, options_ptr,\n\u001b[0;32m--> 929\u001b[0;31m                          run_metadata_ptr)\n\u001b[0m\u001b[1;32m    930\u001b[0m       \u001b[0;32mif\u001b[0m \u001b[0mrun_metadata\u001b[0m\u001b[0;34m:\u001b[0m\u001b[0;34m\u001b[0m\u001b[0;34m\u001b[0m\u001b[0m\n\u001b[1;32m    931\u001b[0m         \u001b[0mproto_data\u001b[0m \u001b[0;34m=\u001b[0m \u001b[0mtf_session\u001b[0m\u001b[0;34m.\u001b[0m\u001b[0mTF_GetBuffer\u001b[0m\u001b[0;34m(\u001b[0m\u001b[0mrun_metadata_ptr\u001b[0m\u001b[0;34m)\u001b[0m\u001b[0;34m\u001b[0m\u001b[0;34m\u001b[0m\u001b[0m\n",
      "\u001b[0;32m~/Documents/KJH/ML/ML_3.6/lib/python3.6/site-packages/tensorflow/python/client/session.py\u001b[0m in \u001b[0;36m_run\u001b[0;34m(self, handle, fetches, feed_dict, options, run_metadata)\u001b[0m\n\u001b[1;32m   1150\u001b[0m     \u001b[0;32mif\u001b[0m \u001b[0mfinal_fetches\u001b[0m \u001b[0;32mor\u001b[0m \u001b[0mfinal_targets\u001b[0m \u001b[0;32mor\u001b[0m \u001b[0;34m(\u001b[0m\u001b[0mhandle\u001b[0m \u001b[0;32mand\u001b[0m \u001b[0mfeed_dict_tensor\u001b[0m\u001b[0;34m)\u001b[0m\u001b[0;34m:\u001b[0m\u001b[0;34m\u001b[0m\u001b[0;34m\u001b[0m\u001b[0m\n\u001b[1;32m   1151\u001b[0m       results = self._do_run(handle, final_targets, final_fetches,\n\u001b[0;32m-> 1152\u001b[0;31m                              feed_dict_tensor, options, run_metadata)\n\u001b[0m\u001b[1;32m   1153\u001b[0m     \u001b[0;32melse\u001b[0m\u001b[0;34m:\u001b[0m\u001b[0;34m\u001b[0m\u001b[0;34m\u001b[0m\u001b[0m\n\u001b[1;32m   1154\u001b[0m       \u001b[0mresults\u001b[0m \u001b[0;34m=\u001b[0m \u001b[0;34m[\u001b[0m\u001b[0;34m]\u001b[0m\u001b[0;34m\u001b[0m\u001b[0;34m\u001b[0m\u001b[0m\n",
      "\u001b[0;32m~/Documents/KJH/ML/ML_3.6/lib/python3.6/site-packages/tensorflow/python/client/session.py\u001b[0m in \u001b[0;36m_do_run\u001b[0;34m(self, handle, target_list, fetch_list, feed_dict, options, run_metadata)\u001b[0m\n\u001b[1;32m   1326\u001b[0m     \u001b[0;32mif\u001b[0m \u001b[0mhandle\u001b[0m \u001b[0;32mis\u001b[0m \u001b[0;32mNone\u001b[0m\u001b[0;34m:\u001b[0m\u001b[0;34m\u001b[0m\u001b[0;34m\u001b[0m\u001b[0m\n\u001b[1;32m   1327\u001b[0m       return self._do_call(_run_fn, feeds, fetches, targets, options,\n\u001b[0;32m-> 1328\u001b[0;31m                            run_metadata)\n\u001b[0m\u001b[1;32m   1329\u001b[0m     \u001b[0;32melse\u001b[0m\u001b[0;34m:\u001b[0m\u001b[0;34m\u001b[0m\u001b[0;34m\u001b[0m\u001b[0m\n\u001b[1;32m   1330\u001b[0m       \u001b[0;32mreturn\u001b[0m \u001b[0mself\u001b[0m\u001b[0;34m.\u001b[0m\u001b[0m_do_call\u001b[0m\u001b[0;34m(\u001b[0m\u001b[0m_prun_fn\u001b[0m\u001b[0;34m,\u001b[0m \u001b[0mhandle\u001b[0m\u001b[0;34m,\u001b[0m \u001b[0mfeeds\u001b[0m\u001b[0;34m,\u001b[0m \u001b[0mfetches\u001b[0m\u001b[0;34m)\u001b[0m\u001b[0;34m\u001b[0m\u001b[0;34m\u001b[0m\u001b[0m\n",
      "\u001b[0;32m~/Documents/KJH/ML/ML_3.6/lib/python3.6/site-packages/tensorflow/python/client/session.py\u001b[0m in \u001b[0;36m_do_call\u001b[0;34m(self, fn, *args)\u001b[0m\n\u001b[1;32m   1346\u001b[0m           \u001b[0;32mpass\u001b[0m\u001b[0;34m\u001b[0m\u001b[0;34m\u001b[0m\u001b[0m\n\u001b[1;32m   1347\u001b[0m       \u001b[0mmessage\u001b[0m \u001b[0;34m=\u001b[0m \u001b[0merror_interpolation\u001b[0m\u001b[0;34m.\u001b[0m\u001b[0minterpolate\u001b[0m\u001b[0;34m(\u001b[0m\u001b[0mmessage\u001b[0m\u001b[0;34m,\u001b[0m \u001b[0mself\u001b[0m\u001b[0;34m.\u001b[0m\u001b[0m_graph\u001b[0m\u001b[0;34m)\u001b[0m\u001b[0;34m\u001b[0m\u001b[0;34m\u001b[0m\u001b[0m\n\u001b[0;32m-> 1348\u001b[0;31m       \u001b[0;32mraise\u001b[0m \u001b[0mtype\u001b[0m\u001b[0;34m(\u001b[0m\u001b[0me\u001b[0m\u001b[0;34m)\u001b[0m\u001b[0;34m(\u001b[0m\u001b[0mnode_def\u001b[0m\u001b[0;34m,\u001b[0m \u001b[0mop\u001b[0m\u001b[0;34m,\u001b[0m \u001b[0mmessage\u001b[0m\u001b[0;34m)\u001b[0m\u001b[0;34m\u001b[0m\u001b[0;34m\u001b[0m\u001b[0m\n\u001b[0m\u001b[1;32m   1349\u001b[0m \u001b[0;34m\u001b[0m\u001b[0m\n\u001b[1;32m   1350\u001b[0m   \u001b[0;32mdef\u001b[0m \u001b[0m_extend_graph\u001b[0m\u001b[0;34m(\u001b[0m\u001b[0mself\u001b[0m\u001b[0;34m)\u001b[0m\u001b[0;34m:\u001b[0m\u001b[0;34m\u001b[0m\u001b[0;34m\u001b[0m\u001b[0m\n",
      "\u001b[0;31mInvalidArgumentError\u001b[0m: Incompatible shapes: [10000,10,41] vs. [10000,10]\n\t [[node sub (defined at <ipython-input-6-3483c43ad79d>:38) ]]\n\t [[node Mean (defined at <ipython-input-6-3483c43ad79d>:38) ]]\n\nCaused by op 'sub', defined at:\n  File \"/usr/lib/python3.6/runpy.py\", line 193, in _run_module_as_main\n    \"__main__\", mod_spec)\n  File \"/usr/lib/python3.6/runpy.py\", line 85, in _run_code\n    exec(code, run_globals)\n  File \"/home/snulife/Documents/KJH/ML/ML_3.6/lib/python3.6/site-packages/ipykernel_launcher.py\", line 16, in <module>\n    app.launch_new_instance()\n  File \"/home/snulife/Documents/KJH/ML/ML_3.6/lib/python3.6/site-packages/traitlets/config/application.py\", line 658, in launch_instance\n    app.start()\n  File \"/home/snulife/Documents/KJH/ML/ML_3.6/lib/python3.6/site-packages/ipykernel/kernelapp.py\", line 505, in start\n    self.io_loop.start()\n  File \"/home/snulife/Documents/KJH/ML/ML_3.6/lib/python3.6/site-packages/tornado/platform/asyncio.py\", line 148, in start\n    self.asyncio_loop.run_forever()\n  File \"/usr/lib/python3.6/asyncio/base_events.py\", line 427, in run_forever\n    self._run_once()\n  File \"/usr/lib/python3.6/asyncio/base_events.py\", line 1440, in _run_once\n    handle._run()\n  File \"/usr/lib/python3.6/asyncio/events.py\", line 145, in _run\n    self._callback(*self._args)\n  File \"/home/snulife/Documents/KJH/ML/ML_3.6/lib/python3.6/site-packages/tornado/ioloop.py\", line 690, in <lambda>\n    lambda f: self._run_callback(functools.partial(callback, future))\n  File \"/home/snulife/Documents/KJH/ML/ML_3.6/lib/python3.6/site-packages/tornado/ioloop.py\", line 743, in _run_callback\n    ret = callback()\n  File \"/home/snulife/Documents/KJH/ML/ML_3.6/lib/python3.6/site-packages/tornado/gen.py\", line 781, in inner\n    self.run()\n  File \"/home/snulife/Documents/KJH/ML/ML_3.6/lib/python3.6/site-packages/tornado/gen.py\", line 742, in run\n    yielded = self.gen.send(value)\n  File \"/home/snulife/Documents/KJH/ML/ML_3.6/lib/python3.6/site-packages/ipykernel/kernelbase.py\", line 378, in dispatch_queue\n    yield self.process_one()\n  File \"/home/snulife/Documents/KJH/ML/ML_3.6/lib/python3.6/site-packages/tornado/gen.py\", line 225, in wrapper\n    runner = Runner(result, future, yielded)\n  File \"/home/snulife/Documents/KJH/ML/ML_3.6/lib/python3.6/site-packages/tornado/gen.py\", line 708, in __init__\n    self.run()\n  File \"/home/snulife/Documents/KJH/ML/ML_3.6/lib/python3.6/site-packages/tornado/gen.py\", line 742, in run\n    yielded = self.gen.send(value)\n  File \"/home/snulife/Documents/KJH/ML/ML_3.6/lib/python3.6/site-packages/ipykernel/kernelbase.py\", line 365, in process_one\n    yield gen.maybe_future(dispatch(*args))\n  File \"/home/snulife/Documents/KJH/ML/ML_3.6/lib/python3.6/site-packages/tornado/gen.py\", line 209, in wrapper\n    yielded = next(result)\n  File \"/home/snulife/Documents/KJH/ML/ML_3.6/lib/python3.6/site-packages/ipykernel/kernelbase.py\", line 272, in dispatch_shell\n    yield gen.maybe_future(handler(stream, idents, msg))\n  File \"/home/snulife/Documents/KJH/ML/ML_3.6/lib/python3.6/site-packages/tornado/gen.py\", line 209, in wrapper\n    yielded = next(result)\n  File \"/home/snulife/Documents/KJH/ML/ML_3.6/lib/python3.6/site-packages/ipykernel/kernelbase.py\", line 542, in execute_request\n    user_expressions, allow_stdin,\n  File \"/home/snulife/Documents/KJH/ML/ML_3.6/lib/python3.6/site-packages/tornado/gen.py\", line 209, in wrapper\n    yielded = next(result)\n  File \"/home/snulife/Documents/KJH/ML/ML_3.6/lib/python3.6/site-packages/ipykernel/ipkernel.py\", line 294, in do_execute\n    res = shell.run_cell(code, store_history=store_history, silent=silent)\n  File \"/home/snulife/Documents/KJH/ML/ML_3.6/lib/python3.6/site-packages/ipykernel/zmqshell.py\", line 536, in run_cell\n    return super(ZMQInteractiveShell, self).run_cell(*args, **kwargs)\n  File \"/home/snulife/Documents/KJH/ML/ML_3.6/lib/python3.6/site-packages/IPython/core/interactiveshell.py\", line 2848, in run_cell\n    raw_cell, store_history, silent, shell_futures)\n  File \"/home/snulife/Documents/KJH/ML/ML_3.6/lib/python3.6/site-packages/IPython/core/interactiveshell.py\", line 2874, in _run_cell\n    return runner(coro)\n  File \"/home/snulife/Documents/KJH/ML/ML_3.6/lib/python3.6/site-packages/IPython/core/async_helpers.py\", line 67, in _pseudo_sync_runner\n    coro.send(None)\n  File \"/home/snulife/Documents/KJH/ML/ML_3.6/lib/python3.6/site-packages/IPython/core/interactiveshell.py\", line 3049, in run_cell_async\n    interactivity=interactivity, compiler=compiler, result=result)\n  File \"/home/snulife/Documents/KJH/ML/ML_3.6/lib/python3.6/site-packages/IPython/core/interactiveshell.py\", line 3214, in run_ast_nodes\n    if (yield from self.run_code(code, result)):\n  File \"/home/snulife/Documents/KJH/ML/ML_3.6/lib/python3.6/site-packages/IPython/core/interactiveshell.py\", line 3296, in run_code\n    exec(code_obj, self.user_global_ns, self.user_ns)\n  File \"<ipython-input-6-3483c43ad79d>\", line 38, in <module>\n    cost = tf.reduce_mean((tf.square(model - targets_float)))\n  File \"/home/snulife/Documents/KJH/ML/ML_3.6/lib/python3.6/site-packages/tensorflow/python/ops/math_ops.py\", line 812, in binary_op_wrapper\n    return func(x, y, name=name)\n  File \"/home/snulife/Documents/KJH/ML/ML_3.6/lib/python3.6/site-packages/tensorflow/python/ops/gen_math_ops.py\", line 9536, in sub\n    \"Sub\", x=x, y=y, name=name)\n  File \"/home/snulife/Documents/KJH/ML/ML_3.6/lib/python3.6/site-packages/tensorflow/python/framework/op_def_library.py\", line 788, in _apply_op_helper\n    op_def=op_def)\n  File \"/home/snulife/Documents/KJH/ML/ML_3.6/lib/python3.6/site-packages/tensorflow/python/util/deprecation.py\", line 507, in new_func\n    return func(*args, **kwargs)\n  File \"/home/snulife/Documents/KJH/ML/ML_3.6/lib/python3.6/site-packages/tensorflow/python/framework/ops.py\", line 3300, in create_op\n    op_def=op_def)\n  File \"/home/snulife/Documents/KJH/ML/ML_3.6/lib/python3.6/site-packages/tensorflow/python/framework/ops.py\", line 1801, in __init__\n    self._traceback = tf_stack.extract_stack()\n\nInvalidArgumentError (see above for traceback): Incompatible shapes: [10000,10,41] vs. [10000,10]\n\t [[node sub (defined at <ipython-input-6-3483c43ad79d>:38) ]]\n\t [[node Mean (defined at <ipython-input-6-3483c43ad79d>:38) ]]\n"
     ]
    }
   ],
   "source": [
    "#########\n",
    "# 신경망 모델 학습\n",
    "######\n",
    "total_epoch = 10000\n",
    "\n",
    "sess = tf.Session()\n",
    "sess.run(tf.global_variables_initializer())\n",
    "\n",
    "for epoch in range(total_epoch):\n",
    "    _, loss = sess.run([optimizer, cost],\n",
    "                       feed_dict={enc_input: input_batch,\n",
    "                                  dec_input: output_batch,\n",
    "                                  targets: target_batch})\n",
    "\n",
    "    print('Epoch:', '%04d' % (epoch + 1),\n",
    "          'cost =', '{:.6f}'.format(loss))\n",
    "\n",
    "print('최적화 완료!')\n",
    "\n",
    "prediction = tf.argmax(model, 2)"
   ]
  },
  {
   "cell_type": "code",
   "execution_count": null,
   "metadata": {},
   "outputs": [],
   "source": [
    "print(target_batch[:100])\n",
    "print(sess.run(\n",
    "    prediction, \n",
    "    feed_dict = {\n",
    "        enc_input: input_batch[:100], \n",
    "        dec_input: output_batch[:100],\n",
    "        targets: target_batch[:100]\n",
    "    }\n",
    "))"
   ]
  }
 ],
 "metadata": {
  "kernelspec": {
   "display_name": "Python 3",
   "language": "python",
   "name": "python3"
  },
  "language_info": {
   "codemirror_mode": {
    "name": "ipython",
    "version": 3
   },
   "file_extension": ".py",
   "mimetype": "text/x-python",
   "name": "python",
   "nbconvert_exporter": "python",
   "pygments_lexer": "ipython3",
   "version": "3.6.7"
  }
 },
 "nbformat": 4,
 "nbformat_minor": 2
}
