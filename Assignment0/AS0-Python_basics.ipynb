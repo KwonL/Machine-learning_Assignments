{
 "cells": [
  {
   "cell_type": "markdown",
   "metadata": {},
   "source": [
    "# M2608.001300 기계학습 기초 및 전기정보 응용<br> Assignment 0: Python Basics"
   ]
  },
  {
   "cell_type": "markdown",
   "metadata": {},
   "source": [
    "## Problem 1: Bubblesort\n",
    "\n",
    "아래 bubblesort 함수를 구현해보세요. \n",
    "YOUR CODE COMES HERE 라는 주석이 있는 곳을 채우면 됩니다."
   ]
  },
  {
   "cell_type": "code",
   "execution_count": 1,
   "metadata": {},
   "outputs": [],
   "source": [
    "def bubblesort(arr):\n",
    "    for i in range(len(arr) - 1, 0, -1) :\n",
    "        for j in range(i) :\n",
    "            if arr[j] > arr[j + 1] :\n",
    "                arr[j], arr[j + 1] = arr[j + 1], arr[i]\n",
    "    return arr"
   ]
  },
  {
   "cell_type": "code",
   "execution_count": 2,
   "metadata": {
    "scrolled": false
   },
   "outputs": [
    {
     "name": "stdout",
     "output_type": "stream",
     "text": [
      "[0, 9, 11, 12, 2, 12, 9, 0, 4, 15, 17, 19, 18, 11, 5, 3, 12, 1, 18, 10]\n",
      "[0, 0, 1, 10, 10, 10, 10, 10, 10, 10, 10, 10, 10, 10, 10, 10, 10, 10, 10, 10]\n",
      "\n",
      "Q: Is the array sorted?\n",
      "A: True\n"
     ]
    }
   ],
   "source": [
    "import random\n",
    "array = [random.randint(0, 20) for _ in range(20)]\n",
    "print(array)\n",
    "\n",
    "array_sorted = bubblesort(array)\n",
    "print(array_sorted)\n",
    "\n",
    "print()\n",
    "print('Q: Is the array sorted?')\n",
    "print('A:', sorted(array) == array_sorted)"
   ]
  },
  {
   "cell_type": "markdown",
   "metadata": {},
   "source": [
    "## Problem 2: Classes\n",
    "\n",
    "Quicksort, bubblesort, insertionsort 를 아래 class의 instance method로 구현해 보세요. YOUR CODE COMES HERE 라는 주석이 있는 곳을 채우면 됩니다."
   ]
  },
  {
   "cell_type": "code",
   "execution_count": 13,
   "metadata": {},
   "outputs": [],
   "source": [
    "class Sorter:\n",
    "    def __init__(self, method):\n",
    "        self.method = method\n",
    "        \n",
    "    @staticmethod\n",
    "    def of(method):\n",
    "        return Sorter(method)\n",
    "        \n",
    "    def sort(self, arr):\n",
    "        if self.method == 'quicksort':\n",
    "            return self.quicksort(arr)\n",
    "        \n",
    "        elif self.method == 'bubblesort':\n",
    "            return self.bubblesort(arr)\n",
    "        \n",
    "        elif self.method == 'insertionsort':\n",
    "            return self.insertionsort(arr)\n",
    "        \n",
    "        else:\n",
    "            raise ValueError('Unknown method: %s' % method)\n",
    "\n",
    "    def quicksort(self, arr):\n",
    "        less = list()\n",
    "        gt = list()\n",
    "        eq = list()\n",
    "        \n",
    "        if len(arr) > 1 :\n",
    "            p = arr[0]\n",
    "            for e in arr :\n",
    "                if e < p :\n",
    "                    less.append(e)\n",
    "                elif e > p :\n",
    "                    gt.append(e)\n",
    "                else :\n",
    "                    eq.append(e)\n",
    "                \n",
    "            return self.quicksort(less) + eq + self.quicksort(gt)\n",
    "        else :\n",
    "            return arr\n",
    "    \n",
    "    def bubblesort(self, arr):\n",
    "        for i in range(len(arr) - 1, 0, -1) :\n",
    "            for j in range(i) :\n",
    "                if arr[j] > arr[j + 1] :\n",
    "                    arr[j], arr[j + 1] = arr[j + 1], arr[i]\n",
    "        return arr\n",
    "    \n",
    "    def insertionsort(self, arr):\n",
    "        for i in range(1, len(arr)): \n",
    "            key = arr[i] \n",
    "            j = i-1\n",
    "            while j >= 0 and key < arr[j] : \n",
    "                    arr[j + 1] = arr[j] \n",
    "                    j -= 1\n",
    "            arr[j + 1] = key \n",
    "        return arr"
   ]
  },
  {
   "cell_type": "code",
   "execution_count": 14,
   "metadata": {},
   "outputs": [
    {
     "name": "stdout",
     "output_type": "stream",
     "text": [
      "quicksort sorted? True\n",
      "bubblesort sorted? True\n",
      "insertionsort sorted? True\n"
     ]
    }
   ],
   "source": [
    "array = [random.randint(0, 20) for _ in range(20)]\n",
    "\n",
    "algorithms = ['quicksort', 'bubblesort', 'insertionsort']\n",
    "for algorithm in algorithms:\n",
    "    sorter = Sorter.of(algorithm)\n",
    "    array_sorted = sorter.sort(array)\n",
    "    print('%s sorted? %s' % (algorithm, sorted(array) == array_sorted))"
   ]
  },
  {
   "cell_type": "code",
   "execution_count": null,
   "metadata": {},
   "outputs": [],
   "source": []
  },
  {
   "cell_type": "code",
   "execution_count": null,
   "metadata": {},
   "outputs": [],
   "source": []
  }
 ],
 "metadata": {
  "anaconda-cloud": {},
  "kernelspec": {
   "display_name": "Python 3",
   "language": "python",
   "name": "python3"
  },
  "language_info": {
   "codemirror_mode": {
    "name": "ipython",
    "version": 3
   },
   "file_extension": ".py",
   "mimetype": "text/x-python",
   "name": "python",
   "nbconvert_exporter": "python",
   "pygments_lexer": "ipython3",
   "version": "3.6.7"
  }
 },
 "nbformat": 4,
 "nbformat_minor": 1
}
