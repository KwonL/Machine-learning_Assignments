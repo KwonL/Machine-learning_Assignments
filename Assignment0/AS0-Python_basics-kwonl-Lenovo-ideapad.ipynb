{
 "cells": [
  {
   "cell_type": "markdown",
   "metadata": {},
   "source": [
    "# M2608.001300 기계학습 기초 및 전기정보 응용<br> Assignment 0: Python Basics"
   ]
  },
  {
   "cell_type": "markdown",
   "metadata": {},
   "source": [
    "## Problem 1: Bubblesort\n",
    "\n",
    "아래 bubblesort 함수를 구현해보세요. \n",
    "YOUR CODE COMES HERE 라는 주석이 있는 곳을 채우면 됩니다."
   ]
  },
  {
   "cell_type": "code",
   "execution_count": 1,
   "metadata": {
    "collapsed": true
   },
   "outputs": [],
   "source": [
    "def bubblesort(arr):\n",
    "    return arr"
   ]
  },
  {
   "cell_type": "code",
   "execution_count": 2,
   "metadata": {
    "scrolled": false
   },
   "outputs": [
    {
     "name": "stdout",
     "output_type": "stream",
     "text": [
      "[20, 12, 11, 8, 3, 19, 9, 17, 10, 11, 0, 15, 20, 7, 3, 17, 5, 3, 19, 8]\n",
      "[20, 12, 11, 8, 3, 19, 9, 17, 10, 11, 0, 15, 20, 7, 3, 17, 5, 3, 19, 8]\n",
      "\n",
      "Q: Is the array sorted?\n",
      "A: False\n"
     ]
    }
   ],
   "source": [
    "import random\n",
    "array = [random.randint(0, 20) for _ in range(20)]\n",
    "print(array)\n",
    "\n",
    "array_sorted = bubblesort(array)\n",
    "print(array_sorted)\n",
    "\n",
    "print()\n",
    "print('Q: Is the array sorted?')\n",
    "print('A:', sorted(array) == array_sorted)"
   ]
  },
  {
   "cell_type": "markdown",
   "metadata": {},
   "source": [
    "## Problem 2: Classes\n",
    "\n",
    "Quicksort, bubblesort, insertionsort 를 아래 class의 instance method로 구현해 보세요. YOUR CODE COMES HERE 라는 주석이 있는 곳을 채우면 됩니다."
   ]
  },
  {
   "cell_type": "code",
   "execution_count": 3,
   "metadata": {},
   "outputs": [],
   "source": [
    "class Sorter:\n",
    "    def __init__(self, method):\n",
    "        self.method = method\n",
    "        \n",
    "    @staticmethod\n",
    "    def of(method):\n",
    "        return Sorter(method)\n",
    "        \n",
    "    def sort(self, arr):\n",
    "        if self.method == 'quicksort':\n",
    "            return self.quicksort(arr)\n",
    "        \n",
    "        elif self.method == 'bubblesort':\n",
    "            return self.bubblesort(arr)\n",
    "        \n",
    "        elif self.method == 'insertionsort':\n",
    "            return self.insertionsort(arr)\n",
    "        \n",
    "        else:\n",
    "            raise ValueError('Unknown method: %s' % method)\n",
    "\n",
    "    def quicksort(self, arr):\n",
    "        # YOUR CODE COMES HERE    \n",
    "        return arr\n",
    "    \n",
    "    def bubblesort(self, arr):\n",
    "        # YOUR CODE COMES HERE       \n",
    "        return arr\n",
    "    \n",
    "    def insertionsort(self, arr):\n",
    "        # YOUR CODE COMES HERE\n",
    "        return arr"
   ]
  },
  {
   "cell_type": "code",
   "execution_count": 4,
   "metadata": {},
   "outputs": [
    {
     "name": "stdout",
     "output_type": "stream",
     "text": [
      "quicksort sorted? False\n",
      "bubblesort sorted? False\n",
      "insertionsort sorted? False\n"
     ]
    }
   ],
   "source": [
    "array = [random.randint(0, 20) for _ in range(20)]\n",
    "\n",
    "algorithms = ['quicksort', 'bubblesort', 'insertionsort']\n",
    "for algorithm in algorithms:\n",
    "    sorter = Sorter.of(algorithm)\n",
    "    array_sorted = sorter.sort(array)\n",
    "    print('%s sorted? %s' % (algorithm, sorted(array) == array_sorted))"
   ]
  },
  {
   "cell_type": "code",
   "execution_count": null,
   "metadata": {
    "collapsed": true
   },
   "outputs": [],
   "source": []
  }
 ],
 "metadata": {
  "anaconda-cloud": {},
  "kernelspec": {
   "display_name": "Python 3",
   "language": "python",
   "name": "python3"
  },
  "language_info": {
   "codemirror_mode": {
    "name": "ipython",
    "version": 3
   },
   "file_extension": ".py",
   "mimetype": "text/x-python",
   "name": "python",
   "nbconvert_exporter": "python",
   "pygments_lexer": "ipython3",
   "version": "3.6.7"
  }
 },
 "nbformat": 4,
 "nbformat_minor": 1
}
